{
 "cells": [
  {
   "cell_type": "code",
   "execution_count": 1,
   "metadata": {},
   "outputs": [],
   "source": [
    "import torch\n",
    "from torchvision import transforms\n",
    "from torchvision.datasets import ImageFolder\n",
    "from torch.utils.data import DataLoader, Dataset\n",
    "from PIL import Image\n",
    "import os\n",
    "import glob\n",
    "from model import RED_CNN\n",
    "from CTImage import CTImage\n",
    "from tqdm.auto import tqdm\n",
    "from utils import cal_SSIM,cal_PSNR,SSIM\n",
    "from thop import profile\n",
    "\n",
    "\n",
    "        "
   ]
  },
  {
   "cell_type": "code",
   "execution_count": 21,
   "metadata": {},
   "outputs": [],
   "source": [
    "\n",
    "device = ('cuda' if torch.cuda.is_available() else 'cpu')\n",
    "model = RED_CNN().to(device)\n",
    "model_path = 'saved_file/ssim_model2_100.pth'\n",
    "model.load_state_dict(torch.load(model_path))\n",
    "ct_dataset = CTImage(patch_n=None,patch_size=None,root_dir='../data/TestSet/')\n",
    "\n",
    "\n",
    "def test(testset,batch_size=16):\n",
    "    dataloader = DataLoader(testset,batch_size=16,shuffle=False)\n",
    "    total_origin_PSNR = 0\n",
    "    total_PSNR = 0\n",
    "    total_origin_SSIM = 0\n",
    "    total_SSIM = 0\n",
    "    cnt = 0\n",
    "    with torch.no_grad():\n",
    "        for _,batch in tqdm(enumerate(dataloader),total=len(dataloader)):\n",
    "            targets = batch[1].to(device)\n",
    "            inputs = batch[0].to(device)\n",
    "            outputs = model(inputs).detach()\n",
    "            for i in range(targets.shape[0]):\n",
    "                total_origin_PSNR += cal_PSNR(inputs[i],targets[i])\n",
    "                total_origin_SSIM += cal_SSIM(inputs[i],targets[i])\n",
    "                total_PSNR += cal_PSNR(outputs[i],targets[i])\n",
    "                total_SSIM += cal_SSIM(outputs[i],targets[i])\n",
    "            \n",
    "            cnt += targets.shape[0]\n",
    "    avg_origin_PSNR = total_origin_PSNR / cnt\n",
    "    avg_origin_SSIM = total_origin_SSIM / cnt\n",
    "    avg_PSNR = total_PSNR / cnt\n",
    "    avg_SSIM = total_SSIM / cnt\n",
    "    return avg_PSNR,avg_SSIM,avg_origin_PSNR,avg_origin_SSIM\n"
   ]
  },
  {
   "cell_type": "code",
   "execution_count": 22,
   "metadata": {},
   "outputs": [
    {
     "data": {
      "application/vnd.jupyter.widget-view+json": {
       "model_id": "0e7bafd7dbf14231b74e061bb0b65f58",
       "version_major": 2,
       "version_minor": 0
      },
      "text/plain": [
       "  0%|          | 0/33 [00:00<?, ?it/s]"
      ]
     },
     "metadata": {},
     "output_type": "display_data"
    },
    {
     "data": {
      "text/plain": [
       "(40.67762046712433,\n",
       " tensor(0.9979, device='cuda:0'),\n",
       " 36.196819067907875,\n",
       " tensor(0.9941, device='cuda:0'))"
      ]
     },
     "execution_count": 22,
     "metadata": {},
     "output_type": "execute_result"
    }
   ],
   "source": [
    "test(ct_dataset)"
   ]
  },
  {
   "cell_type": "code",
   "execution_count": 20,
   "metadata": {},
   "outputs": [
    {
     "name": "stdout",
     "output_type": "stream",
     "text": [
      "[INFO] Register count_convNd() for <class 'torch.nn.modules.conv.Conv2d'>.\n",
      "[INFO] Register count_convNd() for <class 'torch.nn.modules.conv.ConvTranspose2d'>.\n",
      "[INFO] Register zero_ops() for <class 'torch.nn.modules.activation.ReLU'>.\n",
      "GFLOPs:205,#Parameters:1848865.0\n"
     ]
    }
   ],
   "source": [
    "input = torch.randn((1,1,256,256)).to(device)\n",
    "macs, params = profile(model, inputs=(input, ))\n",
    "print(\"GFLOPs:{},#Parameters:{}\".format(int(macs)>>29 ,params))# flops = macs * 2 G = 2^30"
   ]
  },
  {
   "cell_type": "code",
   "execution_count": 6,
   "metadata": {},
   "outputs": [
    {
     "name": "stdout",
     "output_type": "stream",
     "text": [
      "Warning: module RED_CNN is treated as a zero-op.\n",
      "RED_CNN(\n",
      "  1.85 M, 100.000% Params, 110.19 GMac, 100.000% MACs, \n",
      "  (conv1): Conv2d(2.5 k, 0.135% Params, 158.51 MMac, 0.144% MACs, 1, 96, kernel_size=(5, 5), stride=(1, 1))\n",
      "  (conv2): Conv2d(230.5 k, 12.467% Params, 14.18 GMac, 12.865% MACs, 96, 96, kernel_size=(5, 5), stride=(1, 1))\n",
      "  (conv3): Conv2d(230.5 k, 12.467% Params, 13.72 GMac, 12.453% MACs, 96, 96, kernel_size=(5, 5), stride=(1, 1))\n",
      "  (conv4): Conv2d(230.5 k, 12.467% Params, 13.28 GMac, 12.048% MACs, 96, 96, kernel_size=(5, 5), stride=(1, 1))\n",
      "  (conv5): Conv2d(230.5 k, 12.467% Params, 12.84 GMac, 11.650% MACs, 96, 96, kernel_size=(5, 5), stride=(1, 1))\n",
      "  (tconv1): ConvTranspose2d(230.5 k, 12.467% Params, 13.28 GMac, 12.048% MACs, 96, 96, kernel_size=(5, 5), stride=(1, 1))\n",
      "  (tconv2): ConvTranspose2d(230.5 k, 12.467% Params, 13.72 GMac, 12.453% MACs, 96, 96, kernel_size=(5, 5), stride=(1, 1))\n",
      "  (tconv3): ConvTranspose2d(230.5 k, 12.467% Params, 14.18 GMac, 12.865% MACs, 96, 96, kernel_size=(5, 5), stride=(1, 1))\n",
      "  (tconv4): ConvTranspose2d(230.5 k, 12.467% Params, 14.64 GMac, 13.283% MACs, 96, 96, kernel_size=(5, 5), stride=(1, 1))\n",
      "  (tconv5): ConvTranspose2d(2.4 k, 0.130% Params, 157.35 MMac, 0.143% MACs, 96, 1, kernel_size=(5, 5), stride=(1, 1))\n",
      "  (relu): ReLU(0, 0.000% Params, 51.9 MMac, 0.047% MACs, )\n",
      ")\n",
      "Computational complexity:       110.19 GMac\n",
      "Number of parameters:           1.85 M  \n"
     ]
    }
   ],
   "source": [
    "\n",
    "from ptflops import get_model_complexity_info\n",
    "macs, params = get_model_complexity_info(model, (1, 256, 256), as_strings=True,\n",
    "                                           print_per_layer_stat=True, verbose=True)\n",
    "print('{:<30}  {:<8}'.format('Computational complexity: ', macs))\n",
    "print('{:<30}  {:<8}'.format('Number of parameters: ', params))"
   ]
  },
  {
   "cell_type": "code",
   "execution_count": null,
   "metadata": {},
   "outputs": [],
   "source": []
  }
 ],
 "metadata": {
  "kernelspec": {
   "display_name": "Python 3 (ipykernel)",
   "language": "python",
   "name": "python3"
  },
  "language_info": {
   "codemirror_mode": {
    "name": "ipython",
    "version": 3
   },
   "file_extension": ".py",
   "mimetype": "text/x-python",
   "name": "python",
   "nbconvert_exporter": "python",
   "pygments_lexer": "ipython3",
   "version": "3.9.13"
  },
  "vscode": {
   "interpreter": {
    "hash": "5179d32cf6ec497baf3f8a3ef987cc77c5d2dc691fdde20a56316522f61a7323"
   }
  }
 },
 "nbformat": 4,
 "nbformat_minor": 2
}
